{
 "cells": [
  {
   "cell_type": "markdown",
   "metadata": {
    "id": "sx7YVUkb88-i"
   },
   "source": [
    "# membuat vektor space model\n",
    "\n",
    "Vektor space model merupakan salah satu cara merepresentasikan teks dalam bentuk vektor berdasarkan frekuensi kata-kata dalam dokumen. Didalam model ini setiap kata dalam dokumen direpresentasikan sebagai sebuah fitur dalam vektor dan bobot tiap kata ditentukan oleh Tf-Idf.\n",
    "\n",
    "## berikut proses membuat vektor space model\n",
    "\n"
   ]
  },
  {
   "cell_type": "markdown",
   "metadata": {
    "id": "jsJ_g52fkxSl"
   },
   "source": [
    "## tool atau library"
   ]
  },
  {
   "cell_type": "code",
   "execution_count": 1,
   "metadata": {
    "id": "afyugQS684eI"
   },
   "outputs": [],
   "source": [
    "import pandas as pd\n",
    "import re\n",
    "from sklearn.feature_extraction.text import TfidfVectorizer\n",
    "import pickle"
   ]
  },
  {
   "cell_type": "markdown",
   "metadata": {
    "id": "Cdu9ex_zk9xP"
   },
   "source": [
    "- pandas berfungsi untuk membaca dan menganalisis data yang disimpan\n",
    "- TfidfVectorizer berfungsi untuk melakukan operasi TF-IDF"
   ]
  },
  {
   "cell_type": "markdown",
   "metadata": {
    "id": "KT08hgaKlbjN"
   },
   "source": [
    "## code program"
   ]
  },
  {
   "cell_type": "code",
   "execution_count": 2,
   "metadata": {
    "id": "asF57pbalWCr"
   },
   "outputs": [],
   "source": [
    "file_berita = 'berita_kompas.csv'\n",
    "df = pd.read_csv(file_berita)"
   ]
  },
  {
   "cell_type": "markdown",
   "metadata": {
    "id": "tzox7v1vl8U6"
   },
   "source": [
    "untuk membaca file hasil crawling"
   ]
  },
  {
   "cell_type": "code",
   "execution_count": 3,
   "metadata": {
    "id": "XgWyWPsRmGLo"
   },
   "outputs": [
    {
     "name": "stdout",
     "output_type": "stream",
     "text": [
      "                                               judul  \\\n",
      "0  Bilang \"Rakyat Jelata\" Saat Tanggapi Miftah Hi...   \n",
      "1  Buron Interpol Asal China Raup Rp 284 dari Bis...   \n",
      "2  Kebakaran Kafe di Kemang, Pegawai Menyelamatka...   \n",
      "3  Jaksa Tuntut Helena Lim Bayar Uang Pengganti R...   \n",
      "4  Real Count Pilkada Tangsel: Benyamin-Pilar Men...   \n",
      "\n",
      "                                                 isi  \\\n",
      "0  JAKARTA, KOMPAS.com - Juru Bicara (Jubir) Kant...   \n",
      "1  JAKARTA, KOMPAS.com - Buron Interpol asal Chin...   \n",
      "2  JAKARTA, KOMPAS.com - Sebuah kafe di Kemang, J...   \n",
      "3  JAKARTA, KOMPAS.com - Pemilik perusahaan money...   \n",
      "4  TANGERANG SELATAN, KOMPAS.com - Calon wali kot...   \n",
      "\n",
      "                              tanggal     kategori  \n",
      "0  Kompas.com - 05/12/2024, 19:34 WIB     Nasional  \n",
      "1  Kompas.com - 05/12/2024, 19:34 WIB     Nasional  \n",
      "2  Kompas.com - 05/12/2024, 19:29 WIB  Megapolitan  \n",
      "3  Kompas.com - 05/12/2024, 19:27 WIB     Nasional  \n",
      "4  Kompas.com - 05/12/2024, 19:22 WIB  Megapolitan  \n"
     ]
    }
   ],
   "source": [
    "print(df.head())"
   ]
  },
  {
   "cell_type": "markdown",
   "metadata": {
    "id": "WdO3I7sjmK8y"
   },
   "source": [
    "untuk menampilkan 5 data pertama, sekaligus untuk memeriksa data sudah benar atau tidak"
   ]
  },
  {
   "cell_type": "code",
   "execution_count": 4,
   "metadata": {
    "id": "mhTMoG_FqGxI"
   },
   "outputs": [],
   "source": [
    "def remove_numbers(text):\n",
    "    return re.sub(r'\\d+', '', text)"
   ]
  },
  {
   "cell_type": "markdown",
   "metadata": {
    "id": "RaI_8rg3qIEe"
   },
   "source": [
    "fungsi untuk menghilangkan angka"
   ]
  },
  {
   "cell_type": "code",
   "execution_count": 5,
   "metadata": {
    "colab": {
     "base_uri": "https://localhost:8080/"
    },
    "id": "IRR7IfmNmVnq",
    "outputId": "1099614d-ccb1-44f8-c987-6ef597faaff5"
   },
   "outputs": [
    {
     "name": "stdout",
     "output_type": "stream",
     "text": [
      "Fitur (Kata-kata unik):\n",
      "['aanwijzing' 'abadi' 'abah' ... 'zis' 'zoom' 'zor']\n",
      "\n",
      "Matriks TF-IDF dalam bentuk DataFrame:\n",
      "     aanwijzing  abadi  abah  abang  abdullah  abh  abri  absen  absennya  \\\n",
      "0           0.0    0.0   0.0    0.0  0.000000  0.0   0.0    0.0       0.0   \n",
      "1           0.0    0.0   0.0    0.0  0.000000  0.0   0.0    0.0       0.0   \n",
      "2           0.0    0.0   0.0    0.0  0.000000  0.0   0.0    0.0       0.0   \n",
      "3           0.0    0.0   0.0    0.0  0.000000  0.0   0.0    0.0       0.0   \n",
      "4           0.0    0.0   0.0    0.0  0.000000  0.0   0.0    0.0       0.0   \n",
      "..          ...    ...   ...    ...       ...  ...   ...    ...       ...   \n",
      "145         0.0    0.0   0.0    0.0  0.000000  0.0   0.0    0.0       0.0   \n",
      "146         0.0    0.0   0.0    0.0  0.000000  0.0   0.0    0.0       0.0   \n",
      "147         0.0    0.0   0.0    0.0  0.000000  0.0   0.0    0.0       0.0   \n",
      "148         0.0    0.0   0.0    0.0  0.042898  0.0   0.0    0.0       0.0   \n",
      "149         0.0    0.0   0.0    0.0  0.000000  0.0   0.0    0.0       0.0   \n",
      "\n",
      "     abu  ...  zaeof  zakat  zaman  zatca  zero  zhenxing  zikrillah  zis  \\\n",
      "0    0.0  ...    0.0    0.0    0.0    0.0   0.0  0.000000        0.0  0.0   \n",
      "1    0.0  ...    0.0    0.0    0.0    0.0   0.0  0.049616        0.0  0.0   \n",
      "2    0.0  ...    0.0    0.0    0.0    0.0   0.0  0.000000        0.0  0.0   \n",
      "3    0.0  ...    0.0    0.0    0.0    0.0   0.0  0.000000        0.0  0.0   \n",
      "4    0.0  ...    0.0    0.0    0.0    0.0   0.0  0.000000        0.0  0.0   \n",
      "..   ...  ...    ...    ...    ...    ...   ...       ...        ...  ...   \n",
      "145  0.0  ...    0.0    0.0    0.0    0.0   0.0  0.000000        0.0  0.0   \n",
      "146  0.0  ...    0.0    0.0    0.0    0.0   0.0  0.000000        0.0  0.0   \n",
      "147  0.0  ...    0.0    0.0    0.0    0.0   0.0  0.000000        0.0  0.0   \n",
      "148  0.0  ...    0.0    0.0    0.0    0.0   0.0  0.000000        0.0  0.0   \n",
      "149  0.0  ...    0.0    0.0    0.0    0.0   0.0  0.000000        0.0  0.0   \n",
      "\n",
      "     zoom  zor  \n",
      "0     0.0  0.0  \n",
      "1     0.0  0.0  \n",
      "2     0.0  0.0  \n",
      "3     0.0  0.0  \n",
      "4     0.0  0.0  \n",
      "..    ...  ...  \n",
      "145   0.0  0.0  \n",
      "146   0.0  0.0  \n",
      "147   0.0  0.0  \n",
      "148   0.0  0.0  \n",
      "149   0.0  0.0  \n",
      "\n",
      "[150 rows x 5324 columns]\n"
     ]
    },
    {
     "name": "stdout",
     "output_type": "stream",
     "text": [
      "Hasil TF-IDF telah disimpan ke dalam file: tfidf_output.csv\n"
     ]
    }
   ],
   "source": [
    "if 'isi' in df.columns:\n",
    "    # isi_berita = df['isi'].fillna('').tolist()\n",
    "    df['isi'] = df['isi'].fillna('').apply(remove_numbers)\n",
    "    isi_berita = df['isi'].tolist()\n",
    "\n",
    "    # print(isi_berita)\n",
    "\n",
    "    V = TfidfVectorizer()\n",
    "\n",
    "    tfidf = V.fit_transform(isi_berita)\n",
    "\n",
    "    kata_unik = V.get_feature_names_out()\n",
    "\n",
    "    toarray = tfidf.toarray()\n",
    "\n",
    "    print(\"Fitur (Kata-kata unik):\")\n",
    "    print(kata_unik)\n",
    "\n",
    "    df_tfidf = pd.DataFrame(toarray, columns=kata_unik)\n",
    "    print(\"\\nMatriks TF-IDF dalam bentuk DataFrame:\")\n",
    "    print(df_tfidf)\n",
    "\n",
    "    output_file = 'tfidf_output.csv'\n",
    "    df_tfidf.to_csv(output_file, index=False)\n",
    "    print(f\"Hasil TF-IDF telah disimpan ke dalam file: {output_file}\")\n",
    "\n",
    "else:\n",
    "    print(\"Kolom 'isi' tidak ditemukan dalam dataset.\")\n",
    "\n",
    "vectorizer = TfidfVectorizer()\n",
    "with open('tfidf_vectorizer.pkl', 'wb') as file:\n",
    "    pickle.dump(vectorizer, file)\n"
   ]
  },
  {
   "cell_type": "markdown",
   "metadata": {
    "id": "Ld4rQxmwmw1y"
   },
   "source": [
    "pertama kita kita asumsika bahwa kolom \"isi\" ada pada dataset dan membuat variabel \"isi_berita\" untuk menampung teks dalam \"isi\" dan menghapus angka dalam \"isi\"\n",
    "\n",
    "kemudian lakukan inisialisasi \"TfidfVectorizer\", selanjutnya menghitung TF-IDF dengan menggunakan \"fit-transform\". untuk mendapatkan kata-kata unik dalam dokumen dengan menggunakan \"get_feature_names_out\",  lalu menampilkan hasil TF-IDF dalam bentuk matriks menggunakan perintah \"toarray\"."
   ]
  }
 ],
 "metadata": {
  "colab": {
   "provenance": []
  },
  "kernelspec": {
   "display_name": "base",
   "language": "python",
   "name": "python3"
  },
  "language_info": {
   "codemirror_mode": {
    "name": "ipython",
    "version": 3
   },
   "file_extension": ".py",
   "mimetype": "text/x-python",
   "name": "python",
   "nbconvert_exporter": "python",
   "pygments_lexer": "ipython3",
   "version": "3.12.0"
  }
 },
 "nbformat": 4,
 "nbformat_minor": 0
}